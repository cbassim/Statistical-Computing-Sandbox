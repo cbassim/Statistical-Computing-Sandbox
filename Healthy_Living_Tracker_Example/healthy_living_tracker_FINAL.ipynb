{
 "cells": [
  {
   "cell_type": "markdown",
   "id": "f0450e8b",
   "metadata": {},
   "source": [
    "# Assignment One: Healthy Living Tracker\n",
    "## Your Name Here"
   ]
  },
  {
   "cell_type": "markdown",
   "id": "2226d7b9",
   "metadata": {},
   "source": [
    "\n",
    "## Table of Contents\n",
    "1. [Greeting Function](#Greeting-Function)\n",
    "2. [Gather User Metrics Function](#Gather-User-Metrics-Function)\n",
    "3. [Analyze Metrics Function](#Analyze-Metrics-Function)\n",
    "4. [Display Summary Function](#Display-Summary-Function)\n",
    "5. [Main Program](#Main-Program)\n"
   ]
  },
  {
   "cell_type": "markdown",
   "id": "b9c47e92",
   "metadata": {},
   "source": [
    "## Greeting Function\n",
    "This function greets the user and asks for their name, age, and gender. It returns these values in a list."
   ]
  },
  {
   "cell_type": "code",
   "execution_count": 23,
   "id": "fb1a699a",
   "metadata": {},
   "outputs": [],
   "source": [
    "\n",
    "def welcome_message():\n",
    "    print(\"Welcome to Healthy Living Tracker!\")\n",
    "    print(\"You'll input your daily health data and get helpful feedback.\")\n",
    "    print(\"\\nLet's gather your demographic data!\")\n",
    "    name = input(\"Enter your name: \")\n",
    "    age = int(input(\"How old are you? (e.g., 27): \"))\n",
    "    gender = input(\"Enter your gender (e.g., Male, Female, or other): \")\n",
    "    return [name, age, gender]\n"
   ]
  },
  {
   "cell_type": "markdown",
   "id": "32ae9bd7",
   "metadata": {},
   "source": [
    "## Gather User Metrics Function\n",
    "This function collects the user’s daily health metrics."
   ]
  },
  {
   "cell_type": "code",
   "execution_count": 9,
   "id": "346f5505",
   "metadata": {},
   "outputs": [],
   "source": [
    "\n",
    "def gather_metrics():\n",
    "    while True:\n",
    "        try:\n",
    "            water = float(input(\"How many liters of water did you drink today? \"))\n",
    "            steps = int(input(\"How many steps did you take today? \"))\n",
    "            sleep = float(input(\"How many hours did you sleep today? \"))\n",
    "            calories = int(input(\"How many calories did you consume today? \"))\n",
    "            return {'water': water, 'steps': steps, 'sleep': sleep, 'calories': calories}\n",
    "        except ValueError:\n",
    "            print(\"Invalid input. Please enter numeric values.\")\n"
   ]
  },
  {
   "cell_type": "markdown",
   "id": "5f399e1d",
   "metadata": {},
   "source": [
    "## Analyze Metrics Function\n",
    "This function evaluates the user’s metrics against the healthy living standards and prints feedback."
   ]
  },
  {
   "cell_type": "code",
   "execution_count": 12,
   "id": "b21a92a5",
   "metadata": {},
   "outputs": [],
   "source": [
    "\n",
    "def analyze_metrics(metrics):\n",
    "    feedback = []\n",
    "    if metrics['water'] >= 2:\n",
    "        feedback.append(\"- Good job on your water intake!\")\n",
    "    else:\n",
    "        feedback.append(\"- Drink more water! You need at least 2 liters per day.\")\n",
    "    \n",
    "    if metrics['steps'] >= 10000:\n",
    "        feedback.append(\"- Great work on staying active!\")\n",
    "    else:\n",
    "        feedback.append(\"- Walk more! Aim for at least 10,000 steps.\")\n",
    "    \n",
    "    if 7 <= metrics['sleep'] <= 9:\n",
    "        feedback.append(\"- You're getting enough sleep. Keep it up!\")\n",
    "    else:\n",
    "        feedback.append(\"- Adjust your sleep! 7 to 9 hours is recommended.\")\n",
    "    \n",
    "    if 1800 <= metrics['calories'] <= 2500:\n",
    "        feedback.append(\"- Good job on calorie intake!\")\n",
    "    else:\n",
    "        feedback.append(\"- Adjust your calorie intake to stay within 1800-2500 calories.\")\n",
    "    \n",
    "    for line in feedback:\n",
    "        print(line)\n",
    "    return feedback\n"
   ]
  },
  {
   "cell_type": "markdown",
   "id": "738ca68b",
   "metadata": {},
   "source": [
    "## Display Summary Function\n",
    "This function summarizes the data entered over multiple days, calculates averages, and reports the summary."
   ]
  },
  {
   "cell_type": "code",
   "execution_count": 15,
   "id": "6e48e184",
   "metadata": {},
   "outputs": [],
   "source": [
    "\n",
    "def display_summary(name, history):\n",
    "    days = len(history)\n",
    "    avg_water = sum(day['water'] for day in history) / days\n",
    "    avg_steps = sum(day['steps'] for day in history) / days\n",
    "    avg_sleep = sum(day['sleep'] for day in history) / days\n",
    "    avg_calories = sum(day['calories'] for day in history) / days\n",
    "\n",
    "    print(f\"\\n{name}'s Healthy Living Summary:\")\n",
    "    print(f\"- Number of days of data collection: {days} days\")\n",
    "    print(f\"- Average water intake: {avg_water:.2f} liters\")\n",
    "    print(f\"- Average steps: {avg_steps:.0f}\")\n",
    "    print(f\"- Average sleep: {avg_sleep:.1f} hours\")\n",
    "    print(f\"- Average calories: {avg_calories:.0f}\")\n"
   ]
  },
  {
   "cell_type": "markdown",
   "id": "337b1cc5",
   "metadata": {},
   "source": [
    "## Main Program\n",
    "This is the main part of the program where functions are called and the loop allows data entry for multiple days."
   ]
  },
  {
   "cell_type": "code",
   "execution_count": 18,
   "id": "5e578c8e",
   "metadata": {},
   "outputs": [
    {
     "name": "stdout",
     "output_type": "stream",
     "text": [
      "Welcome to Healthy Living Tracker!\n",
      "You'll input your daily health data and get helpful feedback.\n",
      "\n",
      "Let's gather your demographic data!\n"
     ]
    },
    {
     "name": "stdin",
     "output_type": "stream",
     "text": [
      "Enter your name:  Carol\n",
      "How old are you? (e.g., 27):  51\n",
      "Enter your gender (e.g., Male, Female, or other):  F\n"
     ]
    },
    {
     "name": "stdout",
     "output_type": "stream",
     "text": [
      "\n",
      "Day 1:\n"
     ]
    },
    {
     "name": "stdin",
     "output_type": "stream",
     "text": [
      "How many liters of water did you drink today?  2L\n"
     ]
    },
    {
     "name": "stdout",
     "output_type": "stream",
     "text": [
      "Invalid input. Please enter numeric values.\n"
     ]
    },
    {
     "name": "stdin",
     "output_type": "stream",
     "text": [
      "How many liters of water did you drink today?  2\n",
      "How many steps did you take today?  2000\n",
      "How many hours did you sleep today?  8\n",
      "How many calories did you consume today?  2000\n"
     ]
    },
    {
     "name": "stdout",
     "output_type": "stream",
     "text": [
      "- Good job on your water intake!\n",
      "- Walk more! Aim for at least 10,000 steps.\n",
      "- You're getting enough sleep. Keep it up!\n",
      "- Good job on calorie intake!\n"
     ]
    },
    {
     "name": "stdin",
     "output_type": "stream",
     "text": [
      "Would you like to enter data for another day? (y/n):  n\n"
     ]
    },
    {
     "name": "stdout",
     "output_type": "stream",
     "text": [
      "\n",
      "Carol's Healthy Living Summary:\n",
      "- Number of days of data collection: 1 days\n",
      "- Average water intake: 2.00 liters\n",
      "- Average steps: 2000\n",
      "- Average sleep: 8.0 hours\n",
      "- Average calories: 2000\n"
     ]
    }
   ],
   "source": [
    "\n",
    "# Main Program Execution\n",
    "name, age, gender = welcome_message()\n",
    "history = []\n",
    "\n",
    "while True:\n",
    "    print(f\"\\nDay {len(history) + 1}:\")\n",
    "    metrics = gather_metrics()\n",
    "    analyze_metrics(metrics)\n",
    "    history.append(metrics)\n",
    "    cont = input(\"Would you like to enter data for another day? (y/n): \").lower()\n",
    "    if cont != 'y':\n",
    "        break\n",
    "\n",
    "display_summary(name, history)\n"
   ]
  },
  {
   "cell_type": "code",
   "execution_count": null,
   "id": "796f0065-1297-43b2-8ce9-e4605479d4f3",
   "metadata": {},
   "outputs": [],
   "source": []
  }
 ],
 "metadata": {
  "kernelspec": {
   "display_name": "Python 3 (ipykernel)",
   "language": "python",
   "name": "python3"
  },
  "language_info": {
   "codemirror_mode": {
    "name": "ipython",
    "version": 3
   },
   "file_extension": ".py",
   "mimetype": "text/x-python",
   "name": "python",
   "nbconvert_exporter": "python",
   "pygments_lexer": "ipython3",
   "version": "3.11.8"
  }
 },
 "nbformat": 4,
 "nbformat_minor": 5
}
