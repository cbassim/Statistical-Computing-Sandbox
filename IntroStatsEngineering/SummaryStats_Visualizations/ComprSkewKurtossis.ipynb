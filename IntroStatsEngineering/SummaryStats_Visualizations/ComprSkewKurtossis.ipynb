{
 "cells": [
  {
   "cell_type": "code",
   "execution_count": 2,
   "id": "6f9ccd14-fe0f-4e5b-a6ea-00801cb10881",
   "metadata": {},
   "outputs": [
    {
     "name": "stdin",
     "output_type": "stream",
     "text": [
      "Once deleted, variables cannot be recovered. Proceed (y/[n])?  y\n"
     ]
    }
   ],
   "source": [
    "%reset\n",
    "# Importing Necessary Libraries\n",
    "\n",
    "import matplotlib.pyplot as plt\n",
    "import numpy as np\n",
    "import pandas as pd\n",
    "import seaborn as sns"
   ]
  },
  {
   "cell_type": "code",
   "execution_count": 4,
   "id": "079bb461-dce4-4d4d-9008-b08fd6a405a6",
   "metadata": {},
   "outputs": [
    {
     "data": {
      "text/html": [
       "<div>\n",
       "<style scoped>\n",
       "    .dataframe tbody tr th:only-of-type {\n",
       "        vertical-align: middle;\n",
       "    }\n",
       "\n",
       "    .dataframe tbody tr th {\n",
       "        vertical-align: top;\n",
       "    }\n",
       "\n",
       "    .dataframe thead th {\n",
       "        text-align: right;\n",
       "    }\n",
       "</style>\n",
       "<table border=\"1\" class=\"dataframe\">\n",
       "  <thead>\n",
       "    <tr style=\"text-align: right;\">\n",
       "      <th></th>\n",
       "      <th>CompStrength</th>\n",
       "    </tr>\n",
       "  </thead>\n",
       "  <tbody>\n",
       "    <tr>\n",
       "      <th>0</th>\n",
       "      <td>105</td>\n",
       "    </tr>\n",
       "    <tr>\n",
       "      <th>1</th>\n",
       "      <td>221</td>\n",
       "    </tr>\n",
       "    <tr>\n",
       "      <th>2</th>\n",
       "      <td>183</td>\n",
       "    </tr>\n",
       "    <tr>\n",
       "      <th>3</th>\n",
       "      <td>186</td>\n",
       "    </tr>\n",
       "    <tr>\n",
       "      <th>4</th>\n",
       "      <td>121</td>\n",
       "    </tr>\n",
       "    <tr>\n",
       "      <th>...</th>\n",
       "      <td>...</td>\n",
       "    </tr>\n",
       "    <tr>\n",
       "      <th>75</th>\n",
       "      <td>176</td>\n",
       "    </tr>\n",
       "    <tr>\n",
       "      <th>76</th>\n",
       "      <td>150</td>\n",
       "    </tr>\n",
       "    <tr>\n",
       "      <th>77</th>\n",
       "      <td>170</td>\n",
       "    </tr>\n",
       "    <tr>\n",
       "      <th>78</th>\n",
       "      <td>118</td>\n",
       "    </tr>\n",
       "    <tr>\n",
       "      <th>79</th>\n",
       "      <td>149</td>\n",
       "    </tr>\n",
       "  </tbody>\n",
       "</table>\n",
       "<p>80 rows × 1 columns</p>\n",
       "</div>"
      ],
      "text/plain": [
       "    CompStrength\n",
       "0            105\n",
       "1            221\n",
       "2            183\n",
       "3            186\n",
       "4            121\n",
       "..           ...\n",
       "75           176\n",
       "76           150\n",
       "77           170\n",
       "78           118\n",
       "79           149\n",
       "\n",
       "[80 rows x 1 columns]"
      ]
     },
     "execution_count": 4,
     "metadata": {},
     "output_type": "execute_result"
    }
   ],
   "source": [
    "CompStrength = pd.read_csv('CompStrength.csv')\n",
    "CompStrength"
   ]
  },
  {
   "cell_type": "code",
   "execution_count": 6,
   "id": "94129732-4d05-44a5-b915-7080e91c4d2e",
   "metadata": {},
   "outputs": [
    {
     "data": {
      "text/html": [
       "<div>\n",
       "<style scoped>\n",
       "    .dataframe tbody tr th:only-of-type {\n",
       "        vertical-align: middle;\n",
       "    }\n",
       "\n",
       "    .dataframe tbody tr th {\n",
       "        vertical-align: top;\n",
       "    }\n",
       "\n",
       "    .dataframe thead th {\n",
       "        text-align: right;\n",
       "    }\n",
       "</style>\n",
       "<table border=\"1\" class=\"dataframe\">\n",
       "  <thead>\n",
       "    <tr style=\"text-align: right;\">\n",
       "      <th></th>\n",
       "      <th>CompStrength</th>\n",
       "    </tr>\n",
       "  </thead>\n",
       "  <tbody>\n",
       "    <tr>\n",
       "      <th>count</th>\n",
       "      <td>80.000000</td>\n",
       "    </tr>\n",
       "    <tr>\n",
       "      <th>mean</th>\n",
       "      <td>162.662500</td>\n",
       "    </tr>\n",
       "    <tr>\n",
       "      <th>std</th>\n",
       "      <td>33.773236</td>\n",
       "    </tr>\n",
       "    <tr>\n",
       "      <th>min</th>\n",
       "      <td>76.000000</td>\n",
       "    </tr>\n",
       "    <tr>\n",
       "      <th>25%</th>\n",
       "      <td>144.500000</td>\n",
       "    </tr>\n",
       "    <tr>\n",
       "      <th>50%</th>\n",
       "      <td>161.500000</td>\n",
       "    </tr>\n",
       "    <tr>\n",
       "      <th>75%</th>\n",
       "      <td>181.000000</td>\n",
       "    </tr>\n",
       "    <tr>\n",
       "      <th>max</th>\n",
       "      <td>245.000000</td>\n",
       "    </tr>\n",
       "  </tbody>\n",
       "</table>\n",
       "</div>"
      ],
      "text/plain": [
       "       CompStrength\n",
       "count     80.000000\n",
       "mean     162.662500\n",
       "std       33.773236\n",
       "min       76.000000\n",
       "25%      144.500000\n",
       "50%      161.500000\n",
       "75%      181.000000\n",
       "max      245.000000"
      ]
     },
     "execution_count": 6,
     "metadata": {},
     "output_type": "execute_result"
    }
   ],
   "source": [
    "CompStrength.describe()"
   ]
  },
  {
   "cell_type": "code",
   "execution_count": 8,
   "id": "62868ef7-5432-4897-89e9-728d048bacb8",
   "metadata": {},
   "outputs": [
    {
     "data": {
      "text/plain": [
       "Text(0.5, 0, 'CompStrength')"
      ]
     },
     "execution_count": 8,
     "metadata": {},
     "output_type": "execute_result"
    },
    {
     "data": {
      "image/png": "[encoded data removed]",
      "text/plain": [
       "<Figure size 640x480 with 1 Axes>"
      ]
     },
     "metadata": {},
     "output_type": "display_data"
    }
   ],
   "source": [
    "sns.histplot(data=CompStrength)\n",
    "plt.xlabel('CompStrength')"
   ]
  },
  {
   "attachments": {
    "a8abbe18-28d3-4a23-bdfd-d196029d422b.png": {
     "image/png": "[encoded data removed]"
    },
    "b30f9cd2-cc06-425e-9e92-41d23f81361c.png": {
     "image/png": "[encoded data removed]"
    }
   },
   "cell_type": "markdown",
   "id": "5b9dedaa-2671-48be-b882-4564e619e903",
   "metadata": {},
   "source": [
    "![image.png](attachment:a8abbe18-28d3-4a23-bdfd-d196029d422b.png)\n",
    "\n",
    "![image.png](attachment:b30f9cd2-cc06-425e-9e92-41d23f81361c.png)"
   ]
  },
  {
   "cell_type": "code",
   "execution_count": 70,
   "id": "1b2a60fe-b86a-4422-9d44-e80690043042",
   "metadata": {},
   "outputs": [
    {
     "name": "stderr",
     "output_type": "stream",
     "text": [
      "C:\\Users\\carol\\anaconda3\\Lib\\site-packages\\numpy\\core\\fromnumeric.py:3643: FutureWarning: The behavior of DataFrame.std with axis=None is deprecated, in a future version this will reduce over both axes and return a scalar. To retain the old behavior, pass axis=0 (or do not pass axis)\n",
      "  return std(axis=axis, dtype=dtype, out=out, ddof=ddof, **kwargs)\n",
      "C:\\Users\\carol\\anaconda3\\Lib\\site-packages\\numpy\\core\\fromnumeric.py:86: FutureWarning: The behavior of DataFrame.sum with axis=None is deprecated, in a future version this will reduce over both axes and return a scalar. To retain the old behavior, pass axis=0 (or do not pass axis)\n",
      "  return reduction(axis=axis, out=out, **passkwargs)\n"
     ]
    },
    {
     "data": {
      "text/plain": [
       "CompStrength   -0.025025\n",
       "dtype: float64"
      ]
     },
     "execution_count": 70,
     "metadata": {},
     "output_type": "execute_result"
    }
   ],
   "source": [
    "# Skew, sample\n",
    "SSS=np.sum( np.power( ( (CompStrength-np.mean(CompStrength)) / np.std(CompStrength,ddof=1) ) , 3) )\n",
    "SSkew=(80/((79)*(78))) *SSS\n",
    "SSkew"
   ]
  },
  {
   "cell_type": "code",
   "execution_count": 72,
   "id": "4cdc3e3a-878f-4d6e-8d30-05299eead9d1",
   "metadata": {},
   "outputs": [],
   "source": [
    "from scipy import stats\n",
    "import statsmodels.graphics.gofplots as sm"
   ]
  },
  {
   "cell_type": "code",
   "execution_count": 74,
   "id": "d400a72d-9871-4148-b65e-fa862d265a4f",
   "metadata": {},
   "outputs": [
    {
     "data": {
      "text/plain": [
       "array([-0.02502533])"
      ]
     },
     "execution_count": 74,
     "metadata": {},
     "output_type": "execute_result"
    }
   ],
   "source": [
    "# If Bias=False, then the calculations are corrected for statistical bias (for sample).\n",
    "stats.skew(CompStrength,bias=False)"
   ]
  },
  {
   "cell_type": "code",
   "execution_count": 100,
   "id": "898d0051-ce47-4367-9449-143e91fc6c10",
   "metadata": {},
   "outputs": [
    {
     "name": "stderr",
     "output_type": "stream",
     "text": [
      "C:\\Users\\carol\\anaconda3\\Lib\\site-packages\\numpy\\core\\fromnumeric.py:3643: FutureWarning: The behavior of DataFrame.std with axis=None is deprecated, in a future version this will reduce over both axes and return a scalar. To retain the old behavior, pass axis=0 (or do not pass axis)\n",
      "  return std(axis=axis, dtype=dtype, out=out, ddof=ddof, **kwargs)\n",
      "C:\\Users\\carol\\anaconda3\\Lib\\site-packages\\numpy\\core\\fromnumeric.py:86: FutureWarning: The behavior of DataFrame.sum with axis=None is deprecated, in a future version this will reduce over both axes and return a scalar. To retain the old behavior, pass axis=0 (or do not pass axis)\n",
      "  return reduction(axis=axis, out=out, **passkwargs)\n"
     ]
    },
    {
     "data": {
      "text/plain": [
       "CompStrength    0.240271\n",
       "dtype: float64"
      ]
     },
     "execution_count": 100,
     "metadata": {},
     "output_type": "execute_result"
    }
   ],
   "source": [
    "# Kurtosis, sample\n",
    "SSK=np.sum( np.power( ( (CompStrength-np.mean(CompStrength)) / np.std(CompStrength,ddof=1) ) , 4) )\n",
    "Kurt=( (80*(81)) / (79*78*77) ) *SSK\n",
    "Kurt\n",
    "Excess= ( 3* ( ( 79*79) / (78*77) ) )\n",
    "SKurt = Kurt-Excess\n",
    "SKurt"
   ]
  },
  {
   "cell_type": "code",
   "execution_count": 102,
   "id": "e2030aff-947f-4aad-b5ba-114c29b63ac4",
   "metadata": {},
   "outputs": [
    {
     "data": {
      "text/plain": [
       "array([0.24027117])"
      ]
     },
     "execution_count": 102,
     "metadata": {},
     "output_type": "execute_result"
    }
   ],
   "source": [
    "stats.kurtosis(CompStrength,bias=False)"
   ]
  },
  {
   "cell_type": "code",
   "execution_count": 104,
   "id": "905b9895-9b9a-47e9-9b74-725ae0834f14",
   "metadata": {},
   "outputs": [
    {
     "data": {
      "text/plain": [
       "CompStrength    0.084486\n",
       "dtype: float64"
      ]
     },
     "execution_count": 104,
     "metadata": {},
     "output_type": "execute_result"
    }
   ],
   "source": [
    "# We will learn a statistical test using these to see if data is statitsically consistent with being normal\n",
    "# Jarque Bera Test\n",
    "JB= 80/6*(np.square(S) + 1/4 *np.square((K-3)))\n",
    "JB"
   ]
  },
  {
   "cell_type": "code",
   "execution_count": 106,
   "id": "6296e956-3f93-43bd-aa42-443e7846a1e7",
   "metadata": {},
   "outputs": [
    {
     "data": {
      "text/plain": [
       "SignificanceResult(statistic=0.08448597550739408, pvalue=0.95863681526342)"
      ]
     },
     "execution_count": 106,
     "metadata": {},
     "output_type": "execute_result"
    }
   ],
   "source": [
    "stats.jarque_bera(CompStrength)"
   ]
  },
  {
   "cell_type": "markdown",
   "id": "1c5ebf79-08ca-44bd-b3c5-ffe060fcb964",
   "metadata": {},
   "source": [
    "# Probabiliy Plots and percentiles"
   ]
  },
  {
   "cell_type": "code",
   "execution_count": 32,
   "id": "431803e7-9461-4448-adde-0f77b69e2147",
   "metadata": {},
   "outputs": [],
   "source": [
    "# To import from Anaconda command line, \n",
    "# conda install package-name\n",
    "# import for matplotlib the probability scale (percentiles) or use specialty paper\n",
    "import probscale"
   ]
  },
  {
   "cell_type": "code",
   "execution_count": 34,
   "id": "6ff6497b-3206-49a4-b056-0c7c8f692e78",
   "metadata": {},
   "outputs": [
    {
     "data": {
      "image/png": "[encoded data removed]",
      "text/plain": [
       "<Figure size 640x480 with 1 Axes>"
      ]
     },
     "metadata": {},
     "output_type": "display_data"
    }
   ],
   "source": [
    "fig2, (ax2) = plt.subplots(1)\n",
    "fig2=probscale.probplot(CompStrength,ax2)"
   ]
  },
  {
   "cell_type": "code",
   "execution_count": null,
   "id": "cda2eef0-9b1f-466d-8597-548e43ea6ec9",
   "metadata": {},
   "outputs": [],
   "source": []
  },
  {
   "cell_type": "code",
   "execution_count": null,
   "id": "3bf91855-8a03-4c6a-98f1-614af207086c",
   "metadata": {},
   "outputs": [],
   "source": []
  },
  {
   "cell_type": "code",
   "execution_count": null,
   "id": "4c341241-8006-48d3-8a9d-9562bbc13950",
   "metadata": {},
   "outputs": [],
   "source": []
  }
 ],
 "metadata": {
  "kernelspec": {
   "display_name": "Python 3 (ipykernel)",
   "language": "python",
   "name": "python3"
  },
  "language_info": {
   "codemirror_mode": {
    "name": "ipython",
    "version": 3
   },
   "file_extension": ".py",
   "mimetype": "text/x-python",
   "name": "python",
   "nbconvert_exporter": "python",
   "pygments_lexer": "ipython3",
   "version": "3.11.8"
  }
 },
 "nbformat": 4,
 "nbformat_minor": 5
}
