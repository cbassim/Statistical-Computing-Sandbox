{
 "cells": [
  {
   "cell_type": "code",
   "execution_count": 5,
   "id": "6f9ccd14-fe0f-4e5b-a6ea-00801cb10881",
   "metadata": {},
   "outputs": [
    {
     "name": "stdin",
     "output_type": "stream",
     "text": [
      "Once deleted, variables cannot be recovered. Proceed (y/[n])?  y\n"
     ]
    }
   ],
   "source": [
    "%reset\n",
    "# Importing Necessary Libraries\n",
    "\n",
    "import matplotlib.pyplot as plt\n",
    "import numpy as np\n",
    "import pandas as pd\n",
    "import seaborn as sns"
   ]
  },
  {
   "cell_type": "code",
   "execution_count": 7,
   "id": "079bb461-dce4-4d4d-9008-b08fd6a405a6",
   "metadata": {},
   "outputs": [],
   "source": [
    "CompStrength = pd.read_csv('CompStrength.csv')"
   ]
  },
  {
   "cell_type": "code",
   "execution_count": 8,
   "id": "85b83420-f8d1-47d6-aa79-39175d44cd76",
   "metadata": {},
   "outputs": [],
   "source": [
    "# to see entire dataframe\n",
    "# right click to enale scrolling\n",
    "pd.set_option(\"display.max_rows\", None)"
   ]
  },
  {
   "cell_type": "code",
   "execution_count": 11,
   "id": "3520a073-96fc-41de-942d-542ed3ef52b0",
   "metadata": {
    "scrolled": true
   },
   "outputs": [
    {
     "data": {
      "text/html": [
       "<div>\n",
       "<style scoped>\n",
       "    .dataframe tbody tr th:only-of-type {\n",
       "        vertical-align: middle;\n",
       "    }\n",
       "\n",
       "    .dataframe tbody tr th {\n",
       "        vertical-align: top;\n",
       "    }\n",
       "\n",
       "    .dataframe thead th {\n",
       "        text-align: right;\n",
       "    }\n",
       "</style>\n",
       "<table border=\"1\" class=\"dataframe\">\n",
       "  <thead>\n",
       "    <tr style=\"text-align: right;\">\n",
       "      <th></th>\n",
       "      <th>CompStrength</th>\n",
       "    </tr>\n",
       "  </thead>\n",
       "  <tbody>\n",
       "    <tr>\n",
       "      <th>0</th>\n",
       "      <td>105</td>\n",
       "    </tr>\n",
       "    <tr>\n",
       "      <th>1</th>\n",
       "      <td>221</td>\n",
       "    </tr>\n",
       "    <tr>\n",
       "      <th>2</th>\n",
       "      <td>183</td>\n",
       "    </tr>\n",
       "    <tr>\n",
       "      <th>3</th>\n",
       "      <td>186</td>\n",
       "    </tr>\n",
       "    <tr>\n",
       "      <th>4</th>\n",
       "      <td>121</td>\n",
       "    </tr>\n",
       "    <tr>\n",
       "      <th>5</th>\n",
       "      <td>181</td>\n",
       "    </tr>\n",
       "    <tr>\n",
       "      <th>6</th>\n",
       "      <td>180</td>\n",
       "    </tr>\n",
       "    <tr>\n",
       "      <th>7</th>\n",
       "      <td>143</td>\n",
       "    </tr>\n",
       "    <tr>\n",
       "      <th>8</th>\n",
       "      <td>97</td>\n",
       "    </tr>\n",
       "    <tr>\n",
       "      <th>9</th>\n",
       "      <td>154</td>\n",
       "    </tr>\n",
       "    <tr>\n",
       "      <th>10</th>\n",
       "      <td>153</td>\n",
       "    </tr>\n",
       "    <tr>\n",
       "      <th>11</th>\n",
       "      <td>174</td>\n",
       "    </tr>\n",
       "    <tr>\n",
       "      <th>12</th>\n",
       "      <td>120</td>\n",
       "    </tr>\n",
       "    <tr>\n",
       "      <th>13</th>\n",
       "      <td>168</td>\n",
       "    </tr>\n",
       "    <tr>\n",
       "      <th>14</th>\n",
       "      <td>167</td>\n",
       "    </tr>\n",
       "    <tr>\n",
       "      <th>15</th>\n",
       "      <td>141</td>\n",
       "    </tr>\n",
       "    <tr>\n",
       "      <th>16</th>\n",
       "      <td>245</td>\n",
       "    </tr>\n",
       "    <tr>\n",
       "      <th>17</th>\n",
       "      <td>228</td>\n",
       "    </tr>\n",
       "    <tr>\n",
       "      <th>18</th>\n",
       "      <td>174</td>\n",
       "    </tr>\n",
       "    <tr>\n",
       "      <th>19</th>\n",
       "      <td>199</td>\n",
       "    </tr>\n",
       "    <tr>\n",
       "      <th>20</th>\n",
       "      <td>181</td>\n",
       "    </tr>\n",
       "    <tr>\n",
       "      <th>21</th>\n",
       "      <td>158</td>\n",
       "    </tr>\n",
       "    <tr>\n",
       "      <th>22</th>\n",
       "      <td>176</td>\n",
       "    </tr>\n",
       "    <tr>\n",
       "      <th>23</th>\n",
       "      <td>110</td>\n",
       "    </tr>\n",
       "    <tr>\n",
       "      <th>24</th>\n",
       "      <td>163</td>\n",
       "    </tr>\n",
       "    <tr>\n",
       "      <th>25</th>\n",
       "      <td>131</td>\n",
       "    </tr>\n",
       "    <tr>\n",
       "      <th>26</th>\n",
       "      <td>154</td>\n",
       "    </tr>\n",
       "    <tr>\n",
       "      <th>27</th>\n",
       "      <td>115</td>\n",
       "    </tr>\n",
       "    <tr>\n",
       "      <th>28</th>\n",
       "      <td>160</td>\n",
       "    </tr>\n",
       "    <tr>\n",
       "      <th>29</th>\n",
       "      <td>208</td>\n",
       "    </tr>\n",
       "    <tr>\n",
       "      <th>30</th>\n",
       "      <td>158</td>\n",
       "    </tr>\n",
       "    <tr>\n",
       "      <th>31</th>\n",
       "      <td>133</td>\n",
       "    </tr>\n",
       "    <tr>\n",
       "      <th>32</th>\n",
       "      <td>207</td>\n",
       "    </tr>\n",
       "    <tr>\n",
       "      <th>33</th>\n",
       "      <td>180</td>\n",
       "    </tr>\n",
       "    <tr>\n",
       "      <th>34</th>\n",
       "      <td>190</td>\n",
       "    </tr>\n",
       "    <tr>\n",
       "      <th>35</th>\n",
       "      <td>193</td>\n",
       "    </tr>\n",
       "    <tr>\n",
       "      <th>36</th>\n",
       "      <td>194</td>\n",
       "    </tr>\n",
       "    <tr>\n",
       "      <th>37</th>\n",
       "      <td>133</td>\n",
       "    </tr>\n",
       "    <tr>\n",
       "      <th>38</th>\n",
       "      <td>156</td>\n",
       "    </tr>\n",
       "    <tr>\n",
       "      <th>39</th>\n",
       "      <td>123</td>\n",
       "    </tr>\n",
       "    <tr>\n",
       "      <th>40</th>\n",
       "      <td>134</td>\n",
       "    </tr>\n",
       "    <tr>\n",
       "      <th>41</th>\n",
       "      <td>178</td>\n",
       "    </tr>\n",
       "    <tr>\n",
       "      <th>42</th>\n",
       "      <td>76</td>\n",
       "    </tr>\n",
       "    <tr>\n",
       "      <th>43</th>\n",
       "      <td>167</td>\n",
       "    </tr>\n",
       "    <tr>\n",
       "      <th>44</th>\n",
       "      <td>184</td>\n",
       "    </tr>\n",
       "    <tr>\n",
       "      <th>45</th>\n",
       "      <td>135</td>\n",
       "    </tr>\n",
       "    <tr>\n",
       "      <th>46</th>\n",
       "      <td>229</td>\n",
       "    </tr>\n",
       "    <tr>\n",
       "      <th>47</th>\n",
       "      <td>146</td>\n",
       "    </tr>\n",
       "    <tr>\n",
       "      <th>48</th>\n",
       "      <td>218</td>\n",
       "    </tr>\n",
       "    <tr>\n",
       "      <th>49</th>\n",
       "      <td>157</td>\n",
       "    </tr>\n",
       "    <tr>\n",
       "      <th>50</th>\n",
       "      <td>101</td>\n",
       "    </tr>\n",
       "    <tr>\n",
       "      <th>51</th>\n",
       "      <td>171</td>\n",
       "    </tr>\n",
       "    <tr>\n",
       "      <th>52</th>\n",
       "      <td>165</td>\n",
       "    </tr>\n",
       "    <tr>\n",
       "      <th>53</th>\n",
       "      <td>172</td>\n",
       "    </tr>\n",
       "    <tr>\n",
       "      <th>54</th>\n",
       "      <td>158</td>\n",
       "    </tr>\n",
       "    <tr>\n",
       "      <th>55</th>\n",
       "      <td>169</td>\n",
       "    </tr>\n",
       "    <tr>\n",
       "      <th>56</th>\n",
       "      <td>199</td>\n",
       "    </tr>\n",
       "    <tr>\n",
       "      <th>57</th>\n",
       "      <td>151</td>\n",
       "    </tr>\n",
       "    <tr>\n",
       "      <th>58</th>\n",
       "      <td>142</td>\n",
       "    </tr>\n",
       "    <tr>\n",
       "      <th>59</th>\n",
       "      <td>163</td>\n",
       "    </tr>\n",
       "    <tr>\n",
       "      <th>60</th>\n",
       "      <td>145</td>\n",
       "    </tr>\n",
       "    <tr>\n",
       "      <th>61</th>\n",
       "      <td>171</td>\n",
       "    </tr>\n",
       "    <tr>\n",
       "      <th>62</th>\n",
       "      <td>148</td>\n",
       "    </tr>\n",
       "    <tr>\n",
       "      <th>63</th>\n",
       "      <td>158</td>\n",
       "    </tr>\n",
       "    <tr>\n",
       "      <th>64</th>\n",
       "      <td>160</td>\n",
       "    </tr>\n",
       "    <tr>\n",
       "      <th>65</th>\n",
       "      <td>175</td>\n",
       "    </tr>\n",
       "    <tr>\n",
       "      <th>66</th>\n",
       "      <td>149</td>\n",
       "    </tr>\n",
       "    <tr>\n",
       "      <th>67</th>\n",
       "      <td>87</td>\n",
       "    </tr>\n",
       "    <tr>\n",
       "      <th>68</th>\n",
       "      <td>160</td>\n",
       "    </tr>\n",
       "    <tr>\n",
       "      <th>69</th>\n",
       "      <td>237</td>\n",
       "    </tr>\n",
       "    <tr>\n",
       "      <th>70</th>\n",
       "      <td>150</td>\n",
       "    </tr>\n",
       "    <tr>\n",
       "      <th>71</th>\n",
       "      <td>135</td>\n",
       "    </tr>\n",
       "    <tr>\n",
       "      <th>72</th>\n",
       "      <td>196</td>\n",
       "    </tr>\n",
       "    <tr>\n",
       "      <th>73</th>\n",
       "      <td>201</td>\n",
       "    </tr>\n",
       "    <tr>\n",
       "      <th>74</th>\n",
       "      <td>200</td>\n",
       "    </tr>\n",
       "    <tr>\n",
       "      <th>75</th>\n",
       "      <td>176</td>\n",
       "    </tr>\n",
       "    <tr>\n",
       "      <th>76</th>\n",
       "      <td>150</td>\n",
       "    </tr>\n",
       "    <tr>\n",
       "      <th>77</th>\n",
       "      <td>170</td>\n",
       "    </tr>\n",
       "    <tr>\n",
       "      <th>78</th>\n",
       "      <td>118</td>\n",
       "    </tr>\n",
       "    <tr>\n",
       "      <th>79</th>\n",
       "      <td>149</td>\n",
       "    </tr>\n",
       "  </tbody>\n",
       "</table>\n",
       "</div>"
      ],
      "text/plain": [
       "    CompStrength\n",
       "0            105\n",
       "1            221\n",
       "2            183\n",
       "3            186\n",
       "4            121\n",
       "5            181\n",
       "6            180\n",
       "7            143\n",
       "8             97\n",
       "9            154\n",
       "10           153\n",
       "11           174\n",
       "12           120\n",
       "13           168\n",
       "14           167\n",
       "15           141\n",
       "16           245\n",
       "17           228\n",
       "18           174\n",
       "19           199\n",
       "20           181\n",
       "21           158\n",
       "22           176\n",
       "23           110\n",
       "24           163\n",
       "25           131\n",
       "26           154\n",
       "27           115\n",
       "28           160\n",
       "29           208\n",
       "30           158\n",
       "31           133\n",
       "32           207\n",
       "33           180\n",
       "34           190\n",
       "35           193\n",
       "36           194\n",
       "37           133\n",
       "38           156\n",
       "39           123\n",
       "40           134\n",
       "41           178\n",
       "42            76\n",
       "43           167\n",
       "44           184\n",
       "45           135\n",
       "46           229\n",
       "47           146\n",
       "48           218\n",
       "49           157\n",
       "50           101\n",
       "51           171\n",
       "52           165\n",
       "53           172\n",
       "54           158\n",
       "55           169\n",
       "56           199\n",
       "57           151\n",
       "58           142\n",
       "59           163\n",
       "60           145\n",
       "61           171\n",
       "62           148\n",
       "63           158\n",
       "64           160\n",
       "65           175\n",
       "66           149\n",
       "67            87\n",
       "68           160\n",
       "69           237\n",
       "70           150\n",
       "71           135\n",
       "72           196\n",
       "73           201\n",
       "74           200\n",
       "75           176\n",
       "76           150\n",
       "77           170\n",
       "78           118\n",
       "79           149"
      ]
     },
     "execution_count": 11,
     "metadata": {},
     "output_type": "execute_result"
    }
   ],
   "source": [
    "CompStrength"
   ]
  },
  {
   "cell_type": "code",
   "execution_count": 13,
   "id": "282c7594-a1f4-46f9-8cc8-567b99a8c716",
   "metadata": {},
   "outputs": [
    {
     "data": {
      "text/plain": [
       "162.6625"
      ]
     },
     "execution_count": 13,
     "metadata": {},
     "output_type": "execute_result"
    }
   ],
   "source": [
    "np.mean(CompStrength)"
   ]
  },
  {
   "cell_type": "code",
   "execution_count": 15,
   "id": "cc9744be-c72c-4abb-a453-74be96cffd84",
   "metadata": {},
   "outputs": [
    {
     "data": {
      "text/plain": [
       "161.5"
      ]
     },
     "execution_count": 15,
     "metadata": {},
     "output_type": "execute_result"
    }
   ],
   "source": [
    "np.median(CompStrength)"
   ]
  },
  {
   "cell_type": "markdown",
   "id": "0feb6afd-e263-4e8b-b772-b049c1c90cdc",
   "metadata": {},
   "source": [
    "Histogram"
   ]
  },
  {
   "cell_type": "code",
   "execution_count": 18,
   "id": "87ec9f45-a53c-409e-b894-2ef72dae56bf",
   "metadata": {},
   "outputs": [
    {
     "data": {
      "text/plain": [
       "<Axes: ylabel='Count'>"
      ]
     },
     "execution_count": 18,
     "metadata": {},
     "output_type": "execute_result"
    },
    {
     "data": {
      "image/png": "[encoded data removed]",
      "text/plain": [
       "<Figure size 640x480 with 1 Axes>"
      ]
     },
     "metadata": {},
     "output_type": "display_data"
    }
   ],
   "source": [
    "sns.histplot(data=CompStrength,binwidth=20,binrange=(70,250),stat='count',bins=9)"
   ]
  },
  {
   "cell_type": "markdown",
   "id": "ed535e5c-8f8f-4eef-af8b-ec517c3a6ce8",
   "metadata": {},
   "source": [
    "Percentiles"
   ]
  },
  {
   "cell_type": "code",
   "execution_count": 21,
   "id": "35f4188e-e75f-4eb0-a5bc-231a34da1897",
   "metadata": {},
   "outputs": [],
   "source": [
    "orderedCompStrength=pd.Series(np.sort(CompStrength['CompStrength']))"
   ]
  },
  {
   "cell_type": "code",
   "execution_count": 23,
   "id": "b6435fe8-6f89-479f-9740-0fda17fb6ecd",
   "metadata": {
    "scrolled": true
   },
   "outputs": [
    {
     "data": {
      "text/plain": [
       "0      76\n",
       "1      87\n",
       "2      97\n",
       "3     101\n",
       "4     105\n",
       "5     110\n",
       "6     115\n",
       "7     118\n",
       "8     120\n",
       "9     121\n",
       "10    123\n",
       "11    131\n",
       "12    133\n",
       "13    133\n",
       "14    134\n",
       "15    135\n",
       "16    135\n",
       "17    141\n",
       "18    142\n",
       "19    143\n",
       "20    145\n",
       "21    146\n",
       "22    148\n",
       "23    149\n",
       "24    149\n",
       "25    150\n",
       "26    150\n",
       "27    151\n",
       "28    153\n",
       "29    154\n",
       "30    154\n",
       "31    156\n",
       "32    157\n",
       "33    158\n",
       "34    158\n",
       "35    158\n",
       "36    158\n",
       "37    160\n",
       "38    160\n",
       "39    160\n",
       "40    163\n",
       "41    163\n",
       "42    165\n",
       "43    167\n",
       "44    167\n",
       "45    168\n",
       "46    169\n",
       "47    170\n",
       "48    171\n",
       "49    171\n",
       "50    172\n",
       "51    174\n",
       "52    174\n",
       "53    175\n",
       "54    176\n",
       "55    176\n",
       "56    178\n",
       "57    180\n",
       "58    180\n",
       "59    181\n",
       "60    181\n",
       "61    183\n",
       "62    184\n",
       "63    186\n",
       "64    190\n",
       "65    193\n",
       "66    194\n",
       "67    196\n",
       "68    199\n",
       "69    199\n",
       "70    200\n",
       "71    201\n",
       "72    207\n",
       "73    208\n",
       "74    218\n",
       "75    221\n",
       "76    228\n",
       "77    229\n",
       "78    237\n",
       "79    245\n",
       "dtype: int64"
      ]
     },
     "execution_count": 23,
     "metadata": {},
     "output_type": "execute_result"
    }
   ],
   "source": [
    "orderedCompStrength"
   ]
  },
  {
   "cell_type": "code",
   "execution_count": 25,
   "id": "493689db-e426-4e92-ab1b-cc10b49f281f",
   "metadata": {},
   "outputs": [
    {
     "data": {
      "text/plain": [
       "array([144.5, 161.5, 181. ])"
      ]
     },
     "execution_count": 25,
     "metadata": {},
     "output_type": "execute_result"
    }
   ],
   "source": [
    "np.percentile(CompStrength,[25,50,75],method='linear')"
   ]
  },
  {
   "cell_type": "code",
   "execution_count": 27,
   "id": "8893e8ae-544c-48e1-a0ba-a0b00d52dc05",
   "metadata": {},
   "outputs": [
    {
     "name": "stderr",
     "output_type": "stream",
     "text": [
      "C:\\Users\\carol\\anaconda3\\Lib\\site-packages\\numpy\\core\\fromnumeric.py:3785: FutureWarning: The behavior of DataFrame.var with axis=None is deprecated, in a future version this will reduce over both axes and return a scalar. To retain the old behavior, pass axis=0 (or do not pass axis)\n",
      "  return var(axis=axis, dtype=dtype, out=out, ddof=ddof, **kwargs)\n"
     ]
    },
    {
     "data": {
      "text/plain": [
       "CompStrength    33.773236\n",
       "dtype: float64"
      ]
     },
     "execution_count": 27,
     "metadata": {},
     "output_type": "execute_result"
    }
   ],
   "source": [
    "np.sqrt(np.var(CompStrength,ddof=1))"
   ]
  },
  {
   "cell_type": "code",
   "execution_count": 29,
   "id": "33301144-51cc-4edf-b4e8-3bb886a7edec",
   "metadata": {},
   "outputs": [
    {
     "data": {
      "text/plain": [
       "139.88279848704667"
      ]
     },
     "execution_count": 29,
     "metadata": {},
     "output_type": "execute_result"
    }
   ],
   "source": [
    "from scipy.stats import norm\n",
    "norm.ppf(0.25,loc=162.6625,scale=33.773236)"
   ]
  },
  {
   "cell_type": "code",
   "execution_count": 31,
   "id": "42be3591-267d-49b6-af26-1662cb0e7585",
   "metadata": {},
   "outputs": [
    {
     "data": {
      "text/plain": [
       "array([144. , 161.5, 181. ])"
      ]
     },
     "execution_count": 31,
     "metadata": {},
     "output_type": "execute_result"
    }
   ],
   "source": [
    "np.percentile(CompStrength,[25,50,75],method='midpoint')"
   ]
  },
  {
   "cell_type": "code",
   "execution_count": 33,
   "id": "c3171b7e-dd74-4d68-87c6-f783a011ba51",
   "metadata": {},
   "outputs": [
    {
     "data": {
      "text/plain": [
       "array([144.5, 161.5, 181. ])"
      ]
     },
     "execution_count": 33,
     "metadata": {},
     "output_type": "execute_result"
    }
   ],
   "source": [
    "np.quantile(CompStrength,[.25,.50,.75])"
   ]
  },
  {
   "cell_type": "markdown",
   "id": "a994895e-29f9-49c0-9a2a-0c09ccb9d430",
   "metadata": {},
   "source": [
    "# Boxplots"
   ]
  },
  {
   "cell_type": "code",
   "execution_count": 36,
   "id": "1aa8c0f2-7311-4a11-88c5-f8a9870b19ea",
   "metadata": {},
   "outputs": [
    {
     "data": {
      "text/html": [
       "<div>\n",
       "<style scoped>\n",
       "    .dataframe tbody tr th:only-of-type {\n",
       "        vertical-align: middle;\n",
       "    }\n",
       "\n",
       "    .dataframe tbody tr th {\n",
       "        vertical-align: top;\n",
       "    }\n",
       "\n",
       "    .dataframe thead th {\n",
       "        text-align: right;\n",
       "    }\n",
       "</style>\n",
       "<table border=\"1\" class=\"dataframe\">\n",
       "  <thead>\n",
       "    <tr style=\"text-align: right;\">\n",
       "      <th></th>\n",
       "      <th>CompStrength</th>\n",
       "    </tr>\n",
       "  </thead>\n",
       "  <tbody>\n",
       "    <tr>\n",
       "      <th>count</th>\n",
       "      <td>80.000000</td>\n",
       "    </tr>\n",
       "    <tr>\n",
       "      <th>mean</th>\n",
       "      <td>162.662500</td>\n",
       "    </tr>\n",
       "    <tr>\n",
       "      <th>std</th>\n",
       "      <td>33.773236</td>\n",
       "    </tr>\n",
       "    <tr>\n",
       "      <th>min</th>\n",
       "      <td>76.000000</td>\n",
       "    </tr>\n",
       "    <tr>\n",
       "      <th>25%</th>\n",
       "      <td>144.500000</td>\n",
       "    </tr>\n",
       "    <tr>\n",
       "      <th>50%</th>\n",
       "      <td>161.500000</td>\n",
       "    </tr>\n",
       "    <tr>\n",
       "      <th>75%</th>\n",
       "      <td>181.000000</td>\n",
       "    </tr>\n",
       "    <tr>\n",
       "      <th>max</th>\n",
       "      <td>245.000000</td>\n",
       "    </tr>\n",
       "  </tbody>\n",
       "</table>\n",
       "</div>"
      ],
      "text/plain": [
       "       CompStrength\n",
       "count     80.000000\n",
       "mean     162.662500\n",
       "std       33.773236\n",
       "min       76.000000\n",
       "25%      144.500000\n",
       "50%      161.500000\n",
       "75%      181.000000\n",
       "max      245.000000"
      ]
     },
     "execution_count": 36,
     "metadata": {},
     "output_type": "execute_result"
    }
   ],
   "source": [
    "CompStrength.describe()"
   ]
  },
  {
   "cell_type": "code",
   "execution_count": 35,
   "id": "95be72b3-9b46-4aea-8786-e72d703cf487",
   "metadata": {},
   "outputs": [
    {
     "data": {
      "text/plain": [
       "238.0"
      ]
     },
     "execution_count": 35,
     "metadata": {},
     "output_type": "execute_result"
    }
   ],
   "source": [
    "181+1.5*(181-143)"
   ]
  },
  {
   "cell_type": "code",
   "execution_count": 37,
   "id": "5b58a9ad-c118-422a-8818-327b950cdaf4",
   "metadata": {},
   "outputs": [
    {
     "data": {
      "text/plain": [
       "87.25"
      ]
     },
     "execution_count": 37,
     "metadata": {},
     "output_type": "execute_result"
    }
   ],
   "source": [
    "143.5-1.5*(181-143.5)"
   ]
  },
  {
   "cell_type": "code",
   "execution_count": 39,
   "id": "90d92741-a27b-4c85-b340-c08064040c4c",
   "metadata": {},
   "outputs": [],
   "source": [
    "TupleWhisker=[25,75]"
   ]
  },
  {
   "cell_type": "code",
   "execution_count": 41,
   "id": "d3517821-8601-4ce1-a6e3-cc0dda546bbc",
   "metadata": {},
   "outputs": [
    {
     "data": {
      "text/plain": [
       "<Axes: >"
      ]
     },
     "execution_count": 41,
     "metadata": {},
     "output_type": "execute_result"
    },
    {
     "data": {
      "image/png": "[encoded data removed]",
      "text/plain": [
       "<Figure size 640x480 with 1 Axes>"
      ]
     },
     "metadata": {},
     "output_type": "display_data"
    }
   ],
   "source": [
    "sns.boxplot(CompStrength, whis=1.5)"
   ]
  },
  {
   "cell_type": "code",
   "execution_count": 51,
   "id": "8f498146-9689-45ba-8747-bc7987b48a0e",
   "metadata": {},
   "outputs": [
    {
     "data": {
      "text/plain": [
       "Text(0.5, 0, 'CompStrength')"
      ]
     },
     "execution_count": 51,
     "metadata": {},
     "output_type": "execute_result"
    },
    {
     "data": {
      "image/png": "[encoded data removed]",
      "text/plain": [
       "<Figure size 640x480 with 2 Axes>"
      ]
     },
     "metadata": {},
     "output_type": "display_data"
    }
   ],
   "source": [
    "fig,(ax1,ax2)=plt.subplots(2,sharex=True,gridspec_kw={\"height_ratios\":(0.15,0.85)})\n",
    "sns.boxplot(x=CompStrength[\"CompStrength\"], ax=ax1)\n",
    "sns.histplot(data=CompStrength,ax=ax2)\n",
    "plt.xlabel(\"CompStrength\")"
   ]
  },
  {
   "cell_type": "code",
   "execution_count": 53,
   "id": "6edca902-75bb-4da1-bb98-9aaf9c7dddaf",
   "metadata": {},
   "outputs": [],
   "source": [
    "import warnings\n",
    "warnings.simplefilter(action='ignore', category=FutureWarning)"
   ]
  },
  {
   "cell_type": "code",
   "execution_count": 55,
   "id": "b0cf010d-ee6d-4316-852d-4ea3b7617a11",
   "metadata": {},
   "outputs": [
    {
     "data": {
      "text/plain": [
       "<Axes: ylabel='Probability'>"
      ]
     },
     "execution_count": 55,
     "metadata": {},
     "output_type": "execute_result"
    },
    {
     "data": {
      "image/png": "[encoded data removed]",
      "text/plain": [
       "<Figure size 640x480 with 1 Axes>"
      ]
     },
     "metadata": {},
     "output_type": "display_data"
    }
   ],
   "source": [
    "sns.histplot(data=CompStrength,binwidth=20,binrange=(70,250),stat='probability',bins=9,cumulative=True)"
   ]
  },
  {
   "cell_type": "code",
   "execution_count": null,
   "id": "b143ccfc-eac9-43b6-96c6-47fb2ec2d47f",
   "metadata": {},
   "outputs": [],
   "source": []
  },
  {
   "cell_type": "markdown",
   "id": "2a9d5651-2246-4a2b-b442-2b1959258c53",
   "metadata": {},
   "source": [
    "Example for Boxplot"
   ]
  },
  {
   "cell_type": "code",
   "execution_count": 61,
   "id": "e792a7a9-f5ed-4cb3-afca-4081aff49a40",
   "metadata": {},
   "outputs": [],
   "source": [
    "X=pd.Series([6,7,15,36,39,40,41,42,43,47,49,73])"
   ]
  },
  {
   "cell_type": "code",
   "execution_count": 63,
   "id": "00d33241-1ac3-4e1d-aa10-48039e517f21",
   "metadata": {},
   "outputs": [
    {
     "data": {
      "text/plain": [
       "array([25.5, 40.5, 45. ])"
      ]
     },
     "execution_count": 63,
     "metadata": {},
     "output_type": "execute_result"
    }
   ],
   "source": [
    "np.percentile(X,[25,50,75],method='midpoint')"
   ]
  },
  {
   "cell_type": "code",
   "execution_count": 65,
   "id": "6f188e97-2b48-4636-a033-a63782d8e9b2",
   "metadata": {},
   "outputs": [
    {
     "data": {
      "text/plain": [
       "array([30.75, 40.5 , 44.  ])"
      ]
     },
     "execution_count": 65,
     "metadata": {},
     "output_type": "execute_result"
    }
   ],
   "source": [
    "np.percentile(X,[25,50,75],method='linear')"
   ]
  },
  {
   "cell_type": "code",
   "execution_count": 67,
   "id": "cdce7aeb-fa88-42f4-ae24-0d1adedea17f",
   "metadata": {},
   "outputs": [
    {
     "data": {
      "text/plain": [
       "<Axes: >"
      ]
     },
     "execution_count": 67,
     "metadata": {},
     "output_type": "execute_result"
    },
    {
     "data": {
      "image/png": "[encoded data removed]",
      "text/plain": [
       "<Figure size 640x480 with 1 Axes>"
      ]
     },
     "metadata": {},
     "output_type": "display_data"
    }
   ],
   "source": [
    "sns.boxplot(X, whis=1.5)"
   ]
  },
  {
   "cell_type": "code",
   "execution_count": 70,
   "id": "a035ec0a-cecf-4655-91b8-c993cb98c018",
   "metadata": {},
   "outputs": [
    {
     "data": {
      "text/plain": [
       "count    12.000000\n",
       "mean     36.500000\n",
       "std      19.004784\n",
       "min       6.000000\n",
       "25%      30.750000\n",
       "50%      40.500000\n",
       "75%      44.000000\n",
       "max      73.000000\n",
       "dtype: float64"
      ]
     },
     "execution_count": 70,
     "metadata": {},
     "output_type": "execute_result"
    }
   ],
   "source": [
    "X.describe()"
   ]
  },
  {
   "cell_type": "markdown",
   "id": "085903ac-e5ad-41f3-bdf8-ef94224f8889",
   "metadata": {},
   "source": [
    "From Wikipedia Quartiles"
   ]
  },
  {
   "cell_type": "code",
   "execution_count": 73,
   "id": "7e9ef282-dd35-400f-a58c-c5102b14a1c3",
   "metadata": {},
   "outputs": [],
   "source": [
    "XA=pd.Series([6, 7, 15, 36, 39, 40, 41, 42, 43, 47, 49])"
   ]
  },
  {
   "cell_type": "code",
   "execution_count": 75,
   "id": "d561bc83-5afa-4abc-90cb-454b023d9b69",
   "metadata": {},
   "outputs": [
    {
     "data": {
      "text/plain": [
       "count    11.000000\n",
       "mean     33.181818\n",
       "std      15.873362\n",
       "min       6.000000\n",
       "25%      25.500000\n",
       "50%      40.000000\n",
       "75%      42.500000\n",
       "max      49.000000\n",
       "dtype: float64"
      ]
     },
     "execution_count": 75,
     "metadata": {},
     "output_type": "execute_result"
    }
   ],
   "source": [
    "XA.describe()"
   ]
  },
  {
   "cell_type": "code",
   "execution_count": 77,
   "id": "297cbca2-b7e6-4a8b-9fbc-1b9901abdcf2",
   "metadata": {},
   "outputs": [
    {
     "data": {
      "text/plain": [
       "array([25.5, 40. , 42.5])"
      ]
     },
     "execution_count": 77,
     "metadata": {},
     "output_type": "execute_result"
    }
   ],
   "source": [
    "np.percentile(XA,[25,50,75],method='linear')"
   ]
  },
  {
   "cell_type": "code",
   "execution_count": 83,
   "id": "03c1da9b-76b5-4c00-9861-95f70e4b9714",
   "metadata": {},
   "outputs": [],
   "source": [
    "XB=pd.Series([7, 15, 36, 39, 40, 41])"
   ]
  },
  {
   "cell_type": "code",
   "execution_count": 85,
   "id": "31025dea-9f8d-46de-a8eb-1282282d212e",
   "metadata": {},
   "outputs": [
    {
     "data": {
      "text/plain": [
       "count     6.000000\n",
       "mean     29.666667\n",
       "std      14.773851\n",
       "min       7.000000\n",
       "25%      20.250000\n",
       "50%      37.500000\n",
       "75%      39.750000\n",
       "max      41.000000\n",
       "dtype: float64"
      ]
     },
     "execution_count": 85,
     "metadata": {},
     "output_type": "execute_result"
    }
   ],
   "source": [
    "XB.describe()"
   ]
  },
  {
   "cell_type": "code",
   "execution_count": 87,
   "id": "15f2e9dd-3eab-4de1-a277-8f3805a0f9b4",
   "metadata": {},
   "outputs": [
    {
     "data": {
      "text/plain": [
       "array([20.25, 37.5 , 39.75])"
      ]
     },
     "execution_count": 87,
     "metadata": {},
     "output_type": "execute_result"
    }
   ],
   "source": [
    "# Numpys\n",
    "np.percentile(XB,[25,50,75],method='linear')"
   ]
  },
  {
   "cell_type": "code",
   "execution_count": 93,
   "id": "46db6144-2b69-48bb-8d31-5d7f0b42a353",
   "metadata": {},
   "outputs": [
    {
     "data": {
      "text/plain": [
       "0.10    11.00\n",
       "0.50    37.50\n",
       "0.25    20.25\n",
       "0.50    37.50\n",
       "0.75    39.75\n",
       "dtype: float64"
      ]
     },
     "execution_count": 93,
     "metadata": {},
     "output_type": "execute_result"
    }
   ],
   "source": [
    "# Dataframe pandas\n",
    "XB.quantile([.1, .5,.25,.5,.75])"
   ]
  },
  {
   "cell_type": "code",
   "execution_count": null,
   "id": "5698366c-9319-4d0b-93bc-a10be0520068",
   "metadata": {},
   "outputs": [],
   "source": []
  }
 ],
 "metadata": {
  "kernelspec": {
   "display_name": "Python 3 (ipykernel)",
   "language": "python",
   "name": "python3"
  },
  "language_info": {
   "codemirror_mode": {
    "name": "ipython",
    "version": 3
   },
   "file_extension": ".py",
   "mimetype": "text/x-python",
   "name": "python",
   "nbconvert_exporter": "python",
   "pygments_lexer": "ipython3",
   "version": "3.11.8"
  }
 },
 "nbformat": 4,
 "nbformat_minor": 5
}
