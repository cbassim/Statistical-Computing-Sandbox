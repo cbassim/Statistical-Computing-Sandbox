{
 "cells": [
  {
   "cell_type": "code",
   "execution_count": 12,
   "id": "6f9ccd14-fe0f-4e5b-a6ea-00801cb10881",
   "metadata": {},
   "outputs": [
    {
     "name": "stdin",
     "output_type": "stream",
     "text": [
      "Once deleted, variables cannot be recovered. Proceed (y/[n])?  y\n"
     ]
    }
   ],
   "source": [
    "%reset\n",
    "# Importing Necessary Libraries\n",
    "\n",
    "import matplotlib.pyplot as plt\n",
    "import numpy as np\n",
    "import pandas as pd\n",
    "import seaborn as sns"
   ]
  },
  {
   "cell_type": "markdown",
   "id": "a994895e-29f9-49c0-9a2a-0c09ccb9d430",
   "metadata": {},
   "source": [
    "# Boxplots"
   ]
  },
  {
   "cell_type": "code",
   "execution_count": 15,
   "id": "3db8fe68-ee99-4879-b267-cfbfc5156f03",
   "metadata": {},
   "outputs": [],
   "source": [
    "CompStrength = pd.read_csv('CompStrength.csv')"
   ]
  },
  {
   "cell_type": "code",
   "execution_count": 17,
   "id": "d3517821-8601-4ce1-a6e3-cc0dda546bbc",
   "metadata": {},
   "outputs": [
    {
     "data": {
      "text/plain": [
       "<Axes: >"
      ]
     },
     "execution_count": 17,
     "metadata": {},
     "output_type": "execute_result"
    },
    {
     "data": {
      "image/png": "[encoded data removed]",
      "text/plain": [
       "<Figure size 640x480 with 1 Axes>"
      ]
     },
     "metadata": {},
     "output_type": "display_data"
    }
   ],
   "source": [
    "sns.boxplot(CompStrength, whis=1.5)"
   ]
  },
  {
   "cell_type": "code",
   "execution_count": 19,
   "id": "ef7d4fb2-6412-4182-9b6d-e2801137c55c",
   "metadata": {},
   "outputs": [
    {
     "data": {
      "text/plain": [
       "array([144.5, 161.5, 181. ])"
      ]
     },
     "execution_count": 19,
     "metadata": {},
     "output_type": "execute_result"
    }
   ],
   "source": [
    "np.percentile(CompStrength,[25,50,75],method='linear')"
   ]
  },
  {
   "cell_type": "code",
   "execution_count": 21,
   "id": "c0468ebb-1df4-409c-b50b-5cb057c0269a",
   "metadata": {},
   "outputs": [],
   "source": [
    "#np.quantile(CompStrength,[.25,.50,.75])"
   ]
  },
  {
   "cell_type": "code",
   "execution_count": 23,
   "id": "9ebd1dfe-d4c8-41de-9eab-df69f3f36ed1",
   "metadata": {},
   "outputs": [
    {
     "data": {
      "text/plain": [
       "20.75"
      ]
     },
     "execution_count": 23,
     "metadata": {},
     "output_type": "execute_result"
    }
   ],
   "source": [
    ".25*(79)+1"
   ]
  },
  {
   "cell_type": "code",
   "execution_count": 25,
   "id": "b2cea913-f4e5-45cd-a301-dda6083d300a",
   "metadata": {},
   "outputs": [
    {
     "data": {
      "text/plain": [
       "144.5"
      ]
     },
     "execution_count": 25,
     "metadata": {},
     "output_type": "execute_result"
    }
   ],
   "source": [
    "143+ .75*(145-143)"
   ]
  },
  {
   "cell_type": "code",
   "execution_count": 27,
   "id": "5363be45-91b8-4ce6-b262-d8da060ba10a",
   "metadata": {},
   "outputs": [
    {
     "data": {
      "text/html": [
       "<div>\n",
       "<style scoped>\n",
       "    .dataframe tbody tr th:only-of-type {\n",
       "        vertical-align: middle;\n",
       "    }\n",
       "\n",
       "    .dataframe tbody tr th {\n",
       "        vertical-align: top;\n",
       "    }\n",
       "\n",
       "    .dataframe thead th {\n",
       "        text-align: right;\n",
       "    }\n",
       "</style>\n",
       "<table border=\"1\" class=\"dataframe\">\n",
       "  <thead>\n",
       "    <tr style=\"text-align: right;\">\n",
       "      <th></th>\n",
       "      <th>CompStrength</th>\n",
       "    </tr>\n",
       "  </thead>\n",
       "  <tbody>\n",
       "    <tr>\n",
       "      <th>count</th>\n",
       "      <td>80.000000</td>\n",
       "    </tr>\n",
       "    <tr>\n",
       "      <th>mean</th>\n",
       "      <td>162.662500</td>\n",
       "    </tr>\n",
       "    <tr>\n",
       "      <th>std</th>\n",
       "      <td>33.773236</td>\n",
       "    </tr>\n",
       "    <tr>\n",
       "      <th>min</th>\n",
       "      <td>76.000000</td>\n",
       "    </tr>\n",
       "    <tr>\n",
       "      <th>25%</th>\n",
       "      <td>144.500000</td>\n",
       "    </tr>\n",
       "    <tr>\n",
       "      <th>50%</th>\n",
       "      <td>161.500000</td>\n",
       "    </tr>\n",
       "    <tr>\n",
       "      <th>75%</th>\n",
       "      <td>181.000000</td>\n",
       "    </tr>\n",
       "    <tr>\n",
       "      <th>max</th>\n",
       "      <td>245.000000</td>\n",
       "    </tr>\n",
       "  </tbody>\n",
       "</table>\n",
       "</div>"
      ],
      "text/plain": [
       "       CompStrength\n",
       "count     80.000000\n",
       "mean     162.662500\n",
       "std       33.773236\n",
       "min       76.000000\n",
       "25%      144.500000\n",
       "50%      161.500000\n",
       "75%      181.000000\n",
       "max      245.000000"
      ]
     },
     "execution_count": 27,
     "metadata": {},
     "output_type": "execute_result"
    }
   ],
   "source": [
    "CompStrength.describe()"
   ]
  },
  {
   "cell_type": "code",
   "execution_count": 29,
   "id": "d764701a-adc6-46bd-8fdd-66074a48ba07",
   "metadata": {},
   "outputs": [],
   "source": [
    "CompStrength=CompStrength.sort_values(by=\"CompStrength\").reset_index()\n",
    "CompStrength.index = CompStrength.index + 1"
   ]
  },
  {
   "cell_type": "code",
   "execution_count": 31,
   "id": "73b714a2-b21c-4a47-957c-065efe088818",
   "metadata": {},
   "outputs": [
    {
     "data": {
      "text/html": [
       "<div>\n",
       "<style scoped>\n",
       "    .dataframe tbody tr th:only-of-type {\n",
       "        vertical-align: middle;\n",
       "    }\n",
       "\n",
       "    .dataframe tbody tr th {\n",
       "        vertical-align: top;\n",
       "    }\n",
       "\n",
       "    .dataframe thead th {\n",
       "        text-align: right;\n",
       "    }\n",
       "</style>\n",
       "<table border=\"1\" class=\"dataframe\">\n",
       "  <thead>\n",
       "    <tr style=\"text-align: right;\">\n",
       "      <th></th>\n",
       "      <th>index</th>\n",
       "      <th>CompStrength</th>\n",
       "    </tr>\n",
       "  </thead>\n",
       "  <tbody>\n",
       "    <tr>\n",
       "      <th>1</th>\n",
       "      <td>42</td>\n",
       "      <td>76</td>\n",
       "    </tr>\n",
       "    <tr>\n",
       "      <th>2</th>\n",
       "      <td>67</td>\n",
       "      <td>87</td>\n",
       "    </tr>\n",
       "    <tr>\n",
       "      <th>3</th>\n",
       "      <td>8</td>\n",
       "      <td>97</td>\n",
       "    </tr>\n",
       "    <tr>\n",
       "      <th>4</th>\n",
       "      <td>50</td>\n",
       "      <td>101</td>\n",
       "    </tr>\n",
       "    <tr>\n",
       "      <th>5</th>\n",
       "      <td>0</td>\n",
       "      <td>105</td>\n",
       "    </tr>\n",
       "    <tr>\n",
       "      <th>...</th>\n",
       "      <td>...</td>\n",
       "      <td>...</td>\n",
       "    </tr>\n",
       "    <tr>\n",
       "      <th>76</th>\n",
       "      <td>1</td>\n",
       "      <td>221</td>\n",
       "    </tr>\n",
       "    <tr>\n",
       "      <th>77</th>\n",
       "      <td>17</td>\n",
       "      <td>228</td>\n",
       "    </tr>\n",
       "    <tr>\n",
       "      <th>78</th>\n",
       "      <td>46</td>\n",
       "      <td>229</td>\n",
       "    </tr>\n",
       "    <tr>\n",
       "      <th>79</th>\n",
       "      <td>69</td>\n",
       "      <td>237</td>\n",
       "    </tr>\n",
       "    <tr>\n",
       "      <th>80</th>\n",
       "      <td>16</td>\n",
       "      <td>245</td>\n",
       "    </tr>\n",
       "  </tbody>\n",
       "</table>\n",
       "<p>80 rows × 2 columns</p>\n",
       "</div>"
      ],
      "text/plain": [
       "    index  CompStrength\n",
       "1      42            76\n",
       "2      67            87\n",
       "3       8            97\n",
       "4      50           101\n",
       "5       0           105\n",
       "..    ...           ...\n",
       "76      1           221\n",
       "77     17           228\n",
       "78     46           229\n",
       "79     69           237\n",
       "80     16           245\n",
       "\n",
       "[80 rows x 2 columns]"
      ]
     },
     "execution_count": 31,
     "metadata": {},
     "output_type": "execute_result"
    }
   ],
   "source": [
    "CompStrength"
   ]
  },
  {
   "cell_type": "code",
   "execution_count": 33,
   "id": "8f498146-9689-45ba-8747-bc7987b48a0e",
   "metadata": {},
   "outputs": [
    {
     "data": {
      "text/plain": [
       "Text(0.5, 0, 'CompStrength')"
      ]
     },
     "execution_count": 33,
     "metadata": {},
     "output_type": "execute_result"
    },
    {
     "data": {
      "image/png": "[encoded data removed]",
      "text/plain": [
       "<Figure size 640x480 with 2 Axes>"
      ]
     },
     "metadata": {},
     "output_type": "display_data"
    }
   ],
   "source": [
    "fig,(ax1,ax2)=plt.subplots(2,sharex=True,gridspec_kw={\"height_ratios\":(0.15,0.85)})\n",
    "sns.boxplot(x=CompStrength[\"CompStrength\"], ax=ax1)\n",
    "sns.histplot(data=CompStrength[\"CompStrength\"],binwidth=20,binrange=(70,250),ax=ax2)\n",
    "plt.xlabel(\"CompStrength\")"
   ]
  },
  {
   "cell_type": "code",
   "execution_count": 35,
   "id": "6edca902-75bb-4da1-bb98-9aaf9c7dddaf",
   "metadata": {},
   "outputs": [],
   "source": [
    "import warnings\n",
    "warnings.simplefilter(action='ignore', category=FutureWarning)"
   ]
  },
  {
   "cell_type": "code",
   "execution_count": 37,
   "id": "b0cf010d-ee6d-4316-852d-4ea3b7617a11",
   "metadata": {},
   "outputs": [
    {
     "data": {
      "text/plain": [
       "<Axes: xlabel='CompStrength', ylabel='Probability'>"
      ]
     },
     "execution_count": 37,
     "metadata": {},
     "output_type": "execute_result"
    },
    {
     "data": {
      "image/png": "[encoded data removed]",
      "text/plain": [
       "<Figure size 640x480 with 1 Axes>"
      ]
     },
     "metadata": {},
     "output_type": "display_data"
    }
   ],
   "source": [
    "sns.histplot(data=CompStrength[\"CompStrength\"],binwidth=20,binrange=(70,250),stat='probability',bins=9,cumulative=True)"
   ]
  },
  {
   "cell_type": "code",
   "execution_count": 39,
   "id": "297cbca2-b7e6-4a8b-9fbc-1b9901abdcf2",
   "metadata": {},
   "outputs": [
    {
     "data": {
      "text/plain": [
       "array([144.5, 161.5, 181. ])"
      ]
     },
     "execution_count": 39,
     "metadata": {},
     "output_type": "execute_result"
    }
   ],
   "source": [
    "np.percentile(CompStrength[\"CompStrength\"],[25,50,75],method='linear')"
   ]
  },
  {
   "cell_type": "code",
   "execution_count": 41,
   "id": "46db6144-2b69-48bb-8d31-5d7f0b42a353",
   "metadata": {},
   "outputs": [
    {
     "data": {
      "text/plain": [
       "0.10    119.8\n",
       "0.50    161.5\n",
       "0.25    144.5\n",
       "0.50    161.5\n",
       "0.75    181.0\n",
       "Name: CompStrength, dtype: float64"
      ]
     },
     "execution_count": 41,
     "metadata": {},
     "output_type": "execute_result"
    }
   ],
   "source": [
    "# Dataframe pandas\n",
    "CompStrength[\"CompStrength\"].quantile([.1, .5,.25,.5,.75])"
   ]
  },
  {
   "cell_type": "code",
   "execution_count": 43,
   "id": "f0e5463e-a12f-4b01-9141-0cfbcf2b911e",
   "metadata": {},
   "outputs": [],
   "source": [
    "def sample_skew(data):\n",
    "    n = len(CompStrength)\n",
    "    mean = np.mean(CompStrength[\"CompStrength\"])\n",
    "    s = np.std(CompStrength[\"CompStrength\"], ddof=1)  # Sample standard deviation\n",
    "\n",
    "    # Compute the third moment\n",
    "    third_moment = np.sum(( (CompStrength[\"CompStrength\"] - mean) / s) ** 3)\n",
    "\n",
    "    # Compute sample kurtosis\n",
    "    skew =( ( (n) / ((n - 1) * (n - 2))) ) * (third_moment)  \n",
    "\n",
    "    return skew"
   ]
  },
  {
   "cell_type": "code",
   "execution_count": 45,
   "id": "6522fcd9-1c60-4df7-aa4c-b80db6e3017a",
   "metadata": {},
   "outputs": [
    {
     "data": {
      "text/plain": [
       "-0.02502533163039341"
      ]
     },
     "execution_count": 45,
     "metadata": {},
     "output_type": "execute_result"
    }
   ],
   "source": [
    "sample_skew(CompStrength[\"CompStrength\"])"
   ]
  },
  {
   "cell_type": "code",
   "execution_count": 47,
   "id": "3a93d902-1282-43ee-a6ff-d298c6177e54",
   "metadata": {},
   "outputs": [],
   "source": [
    "from scipy import stats"
   ]
  },
  {
   "cell_type": "code",
   "execution_count": 49,
   "id": "de86358e-2071-498c-95d6-9efae21ec46f",
   "metadata": {},
   "outputs": [
    {
     "data": {
      "text/plain": [
       "-0.02502533163039352"
      ]
     },
     "execution_count": 49,
     "metadata": {},
     "output_type": "execute_result"
    }
   ],
   "source": [
    "# bias=False provides calculations corrected for statistical bias\n",
    "stats.skew(CompStrength[\"CompStrength\"],bias=False)"
   ]
  },
  {
   "cell_type": "code",
   "execution_count": 51,
   "id": "08eb8fde-c837-4481-b4c3-6d0882287887",
   "metadata": {},
   "outputs": [
    {
     "data": {
      "text/plain": [
       "0.24027117148564692"
      ]
     },
     "execution_count": 51,
     "metadata": {},
     "output_type": "execute_result"
    }
   ],
   "source": [
    "# Kurtosis\n",
    "# bias=False provides calculations corrected for statistical bias\n",
    "# fishers=True provides excess Kurtosis\n",
    "stats.kurtosis(CompStrength[\"CompStrength\"],bias=False,fisher=True)"
   ]
  },
  {
   "cell_type": "code",
   "execution_count": 53,
   "id": "d7bb8954-d24b-4c11-98be-a6a24452b4d9",
   "metadata": {},
   "outputs": [],
   "source": [
    "def sample_kurtosis(data):\n",
    "    n = len(CompStrength)\n",
    "    mean = np.mean(CompStrength[\"CompStrength\"])\n",
    "    s = np.std(CompStrength[\"CompStrength\"], ddof=1)  # Sample standard deviation\n",
    "\n",
    "    # Compute the fourth moment\n",
    "    fourth_moment = np.sum(( (CompStrength[\"CompStrength\"] - mean) / s) ** 4)\n",
    "\n",
    "    # Compute sample kurtosis\n",
    "    kurtosis =( ( (n * (n+1)) / ((n - 1) * (n - 2) * (n - 3)) ) * (fourth_moment) ) - ( 3 * np.square(n - 1) /( (n-2)*(n-3) ) )\n",
    "\n",
    "    return kurtosis"
   ]
  },
  {
   "cell_type": "code",
   "execution_count": 55,
   "id": "19951c39-26e1-4f36-8202-32559c48c0d0",
   "metadata": {},
   "outputs": [
    {
     "data": {
      "text/plain": [
       "0.2402711714856438"
      ]
     },
     "execution_count": 55,
     "metadata": {},
     "output_type": "execute_result"
    }
   ],
   "source": [
    "sample_kurtosis(CompStrength[\"CompStrength\"])"
   ]
  },
  {
   "cell_type": "markdown",
   "id": "93e1b21f-ca4a-4192-a969-23069995b9b9",
   "metadata": {},
   "source": [
    "# Normal Probability Plot"
   ]
  },
  {
   "cell_type": "code",
   "execution_count": 58,
   "id": "343f240a-3ede-4f9d-be92-b3aca936d7a3",
   "metadata": {},
   "outputs": [],
   "source": [
    "import statsmodels.graphics.gofplots as sm"
   ]
  },
  {
   "cell_type": "code",
   "execution_count": 82,
   "id": "5fd630a8-8997-47db-bfe7-a4fbc5593781",
   "metadata": {},
   "outputs": [],
   "source": [
    "j=np.arange(1,81)"
   ]
  },
  {
   "cell_type": "code",
   "execution_count": 84,
   "id": "8bd3633b-eb12-45b3-b7b1-e5f60d610e11",
   "metadata": {},
   "outputs": [
    {
     "data": {
      "text/plain": [
       "array([0.01234568, 0.02469136, 0.03703704, 0.04938272, 0.0617284 ,\n",
       "       0.07407407, 0.08641975, 0.09876543, 0.11111111, 0.12345679,\n",
       "       0.13580247, 0.14814815, 0.16049383, 0.17283951, 0.18518519,\n",
       "       0.19753086, 0.20987654, 0.22222222, 0.2345679 , 0.24691358,\n",
       "       0.25925926, 0.27160494, 0.28395062, 0.2962963 , 0.30864198,\n",
       "       0.32098765, 0.33333333, 0.34567901, 0.35802469, 0.37037037,\n",
       "       0.38271605, 0.39506173, 0.40740741, 0.41975309, 0.43209877,\n",
       "       0.44444444, 0.45679012, 0.4691358 , 0.48148148, 0.49382716,\n",
       "       0.50617284, 0.51851852, 0.5308642 , 0.54320988, 0.55555556,\n",
       "       0.56790123, 0.58024691, 0.59259259, 0.60493827, 0.61728395,\n",
       "       0.62962963, 0.64197531, 0.65432099, 0.66666667, 0.67901235,\n",
       "       0.69135802, 0.7037037 , 0.71604938, 0.72839506, 0.74074074,\n",
       "       0.75308642, 0.7654321 , 0.77777778, 0.79012346, 0.80246914,\n",
       "       0.81481481, 0.82716049, 0.83950617, 0.85185185, 0.86419753,\n",
       "       0.87654321, 0.88888889, 0.90123457, 0.91358025, 0.92592593,\n",
       "       0.9382716 , 0.95061728, 0.96296296, 0.97530864, 0.98765432])"
      ]
     },
     "execution_count": 84,
     "metadata": {},
     "output_type": "execute_result"
    }
   ],
   "source": [
    "perc=j/(len(CompStrength)+1)\n",
    "perc"
   ]
  },
  {
   "cell_type": "code",
   "execution_count": 104,
   "id": "33b93e35-db41-4a47-a646-34e8782f7870",
   "metadata": {},
   "outputs": [
    {
     "data": {
      "text/plain": [
       "array([0.01234568, 0.02469136, 0.03703704, 0.04938272, 0.0617284 ,\n",
       "       0.07407407, 0.08641975, 0.09876543, 0.11111111, 0.12345679,\n",
       "       0.13580247, 0.14814815, 0.16049383, 0.17283951, 0.18518519,\n",
       "       0.19753086, 0.20987654, 0.22222222, 0.2345679 , 0.24691358,\n",
       "       0.25925926, 0.27160494, 0.28395062, 0.2962963 , 0.30864198,\n",
       "       0.32098765, 0.33333333, 0.34567901, 0.35802469, 0.37037037,\n",
       "       0.38271605, 0.39506173, 0.40740741, 0.41975309, 0.43209877,\n",
       "       0.44444444, 0.45679012, 0.4691358 , 0.48148148, 0.49382716,\n",
       "       0.50617284, 0.51851852, 0.5308642 , 0.54320988, 0.55555556,\n",
       "       0.56790123, 0.58024691, 0.59259259, 0.60493827, 0.61728395,\n",
       "       0.62962963, 0.64197531, 0.65432099, 0.66666667, 0.67901235,\n",
       "       0.69135802, 0.7037037 , 0.71604938, 0.72839506, 0.74074074,\n",
       "       0.75308642, 0.7654321 , 0.77777778, 0.79012346, 0.80246914,\n",
       "       0.81481481, 0.82716049, 0.83950617, 0.85185185, 0.86419753,\n",
       "       0.87654321, 0.88888889, 0.90123457, 0.91358025, 0.92592593,\n",
       "       0.9382716 , 0.95061728, 0.96296296, 0.97530864, 0.98765432])"
      ]
     },
     "execution_count": 104,
     "metadata": {},
     "output_type": "execute_result"
    }
   ],
   "source": [
    "A = sm.ProbPlot(CompStrength[\"CompStrength\"],fit=True)\n",
    "A.theoretical_percentiles"
   ]
  },
  {
   "cell_type": "code",
   "execution_count": 106,
   "id": "717940bc-7af7-4e4b-86ca-998bb932ded2",
   "metadata": {},
   "outputs": [
    {
     "data": {
      "image/png": "[encoded data removed]",
      "text/plain": [
       "<Figure size 640x480 with 1 Axes>"
      ]
     },
     "metadata": {},
     "output_type": "display_data"
    }
   ],
   "source": [
    "A.probplot()\n",
    "plt.show()"
   ]
  },
  {
   "cell_type": "code",
   "execution_count": 108,
   "id": "8b90731b-4b4c-48b4-8272-78c48707cd44",
   "metadata": {},
   "outputs": [
    {
     "data": {
      "text/plain": [
       "array([ 1.,  2.,  3.,  4.,  5.,  6.,  7.,  8.,  9., 10., 11., 12., 13.,\n",
       "       14., 15., 16., 17., 18., 19., 20., 21., 22., 23., 24., 25., 26.,\n",
       "       27., 28., 29., 30., 31., 32., 33., 34., 35., 36., 37., 38., 39.,\n",
       "       40., 41., 42., 43., 44., 45., 46., 47., 48., 49., 50., 51., 52.,\n",
       "       53., 54., 55., 56., 57., 58., 59., 60., 61., 62., 63., 64., 65.,\n",
       "       66., 67., 68., 69., 70., 71., 72., 73., 74., 75., 76., 77., 78.,\n",
       "       79., 80.])"
      ]
     },
     "execution_count": 108,
     "metadata": {},
     "output_type": "execute_result"
    }
   ],
   "source": [
    "A.theoretical_percentiles*(81)"
   ]
  },
  {
   "cell_type": "code",
   "execution_count": null,
   "id": "155e16a0-4df9-4969-883c-84a37f33e4a6",
   "metadata": {},
   "outputs": [],
   "source": []
  },
  {
   "cell_type": "code",
   "execution_count": null,
   "id": "687538a5-0c41-4374-b105-f2c31df6d6fa",
   "metadata": {},
   "outputs": [],
   "source": []
  },
  {
   "cell_type": "code",
   "execution_count": null,
   "id": "8dc3beda-9dd7-4695-8a9d-7f756c9b1358",
   "metadata": {},
   "outputs": [],
   "source": []
  }
 ],
 "metadata": {
  "kernelspec": {
   "display_name": "Python 3 (ipykernel)",
   "language": "python",
   "name": "python3"
  },
  "language_info": {
   "codemirror_mode": {
    "name": "ipython",
    "version": 3
   },
   "file_extension": ".py",
   "mimetype": "text/x-python",
   "name": "python",
   "nbconvert_exporter": "python",
   "pygments_lexer": "ipython3",
   "version": "3.11.8"
  }
 },
 "nbformat": 4,
 "nbformat_minor": 5
}
